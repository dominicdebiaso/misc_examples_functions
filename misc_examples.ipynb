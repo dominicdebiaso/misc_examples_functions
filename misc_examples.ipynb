{
 "cells": [
  {
   "cell_type": "code",
   "execution_count": 91,
   "metadata": {
    "collapsed": false
   },
   "outputs": [],
   "source": [
    "### Functions ###"
   ]
  },
  {
   "cell_type": "code",
   "execution_count": 140,
   "metadata": {
    "collapsed": false
   },
   "outputs": [],
   "source": [
    "def dictGetValues(list_of_dicts):\n",
    "    value_list = []\n",
    "    for dict_item in list_of_dicts:\n",
    "        single_value = dict_item.values()[0]\n",
    "        value_list.append(single_value)\n",
    "    return value_list\n",
    "\n",
    "def dictGetKeys(list_of_dicts):\n",
    "    key_list = []\n",
    "    for dict_item in list_of_dicts:\n",
    "        single_key = dict_item.keys()[0]\n",
    "        key_list.append(single_key)\n",
    "    return key_list\n",
    "\n",
    "x = [{'happy':1}, {'sad':2}]\n",
    "print(dictGetValues(x))\n",
    "print(dictGetKeys(x))\n",
    "\n",
    "[[i for i in i.values()] for i in x]\n",
    "\n",
    "for i in x:\n",
    "    print i.values()"
   ]
  },
  {
   "cell_type": "code",
   "execution_count": null,
   "metadata": {
    "collapsed": true
   },
   "outputs": [],
   "source": [
    "## List Comprehension\n",
    "\n",
    "[item.lower() for sublist in biglist for item in sublist] #collapse list\n",
    "[[item.lower() for item in sublist] for sublist in biglist] #keep list structue"
   ]
  },
  {
   "cell_type": "code",
   "execution_count": 15,
   "metadata": {
    "collapsed": false
   },
   "outputs": [],
   "source": [
    "## Lambda Examples\n",
    "\n",
    "# Single parameter\n",
    "a1 = lambda x: x[0] + x[1]\n",
    "a2 = lambda (x0, x1): x0 + x1\n",
    "print a1([4, 5])\n",
    "print a2((4, 5))\n",
    "\n",
    "# Two-parameter function\n",
    "b1 = lambda x, y: (x[0] + y[0], x[1] + y[1])\n",
    "b2 = lambda (x0, x1), (y0, y1): (x0 + y0, x1 + y1)\n",
    "print b1([1, 2], [3, 4])\n",
    "print b2((1, 2), (3, 4))\n",
    "\n",
    "print map(lambda x: x + 1, [1, 2, 3])\n",
    "print reduce(lambda x, y: x + y, [1, 2, 3])\n",
    "print filter(lambda x: x > 1, [1, 2, 3])"
   ]
  },
  {
   "cell_type": "code",
   "execution_count": null,
   "metadata": {
    "collapsed": true
   },
   "outputs": [],
   "source": [
    "## Randomizing\n",
    "\n",
    "# Choose x random integers out of the range of the given df\n",
    "print (sample(xrange(len(df)),5))"
   ]
  },
  {
   "cell_type": "code",
   "execution_count": 11,
   "metadata": {
    "collapsed": false
   },
   "outputs": [],
   "source": [
    "## 'key' using lambda \n",
    "\n",
    "# Given a number, subtract each number in the list and find which one has a minimum value\n",
    "myList = [4,1,88,44,3]\n",
    "myNumber = 5\n",
    "# Returns the value in the given list, not the value that was calculated from the lambda; somewhat like a list of function comparison\n",
    "min(myList, key=lambda x: abs(x - myNumber))\n",
    "# Returns the what the minimum value is \n",
    "min(map(lambda x: abs(x - myNumber), myList))"
   ]
  },
  {
   "cell_type": "code",
   "execution_count": null,
   "metadata": {
    "collapsed": true
   },
   "outputs": [],
   "source": [
    "## Numpy Arrays\n",
    "\n",
    "np.random.rand(2,3)\n",
    "[0::,1] # all arrays beginning at 0 with each item in each array at the 1 index\n",
    "[0, ::1] # the array at the 0 index, with each item beginning at the 1 index"
   ]
  },
  {
   "cell_type": "code",
   "execution_count": null,
   "metadata": {
    "collapsed": true
   },
   "outputs": [],
   "source": [
    "## Dicts\n",
    "import json\n",
    "\n",
    "x = {'name': 'dominic'}\n",
    "y = {\"doc\": x }\n",
    "print y\n",
    "json.dumps(y)\n",
    "x['name']\n",
    "y['doc']"
   ]
  },
  {
   "cell_type": "code",
   "execution_count": 50,
   "metadata": {
    "collapsed": false
   },
   "outputs": [],
   "source": [
    "## Redis\n",
    "# https://redis-py.readthedocs.org/en/latest/\n",
    "\n",
    "import redis\n",
    "import random\n",
    "import json\n",
    "\n",
    "# r = redis.StrictRedis()\n",
    "# r.set(\"mykey\", \"myvalue\")\n",
    "# r.get(\"mykey\")\n",
    "\n",
    "d = {'abc': '123'}\n",
    "\n",
    "def create_auth_key(attributes):\n",
    "    auth_key = random.randint(1000, 9999)\n",
    "    auth_value = json.dumps(attributes)\n",
    "    r = redis.StrictRedis()\n",
    "    r.setex(auth_key, 6000, auth_value)\n",
    "    return auth_key\n",
    "\n",
    "# def create_auth_key():\n",
    "#     auth_value = random.randint(1000, 9999)\n",
    "#     r = redis.StrictRedis()\n",
    "#     r.set(\"auth_key\", auth_value)\n",
    "#     value = r.get(\"auth_key\")\n",
    "#     return value\n",
    "\n",
    "# r.keys()"
   ]
  },
  {
   "cell_type": "code",
   "execution_count": 37,
   "metadata": {
    "collapsed": false
   },
   "outputs": [],
   "source": [
    "## Time Delay\n",
    "\n",
    "from time import sleep\n",
    "# sleep(10)\n",
    "# print 'happy'\n",
    "\n",
    "def sleepiness():\n",
    "    sleep(10)\n",
    "    print 'happy'"
   ]
  },
  {
   "cell_type": "code",
   "execution_count": 43,
   "metadata": {
    "collapsed": true
   },
   "outputs": [],
   "source": [
    "## Threading; so something can be delayed\n",
    "\n",
    "import thread\n",
    "\n",
    "def sleepiness():\n",
    "    sleep(5)\n",
    "    x = 'this stuff is slow'\n",
    "    print x\n",
    "    return\n",
    "\n",
    "def active():\n",
    "    thread.start_new_thread(sleepiness, ())\n",
    "    x = 'yay this stuff is happening now'\n",
    "    return x"
   ]
  },
  {
   "cell_type": "code",
   "execution_count": null,
   "metadata": {
    "collapsed": true
   },
   "outputs": [],
   "source": [
    "## Neo4j\n",
    "# http://py2neo.org/2.0/intro.html#getting-connected\n",
    "# localhost:7474\n",
    "\n",
    "from py2neo import authenticate, Graph, Node, Relationship\n",
    "\n",
    "authenticate(\"localhost:7474\", \"neo4j\", \"neo4j1\")\n",
    "graph = Graph()\n",
    "\n",
    "alice = Node(\"Person\", name=\"Alice\")\n",
    "bob = Node(\"Person\", name=\"Bob\")\n",
    "alice_knows_bob = Relationship(alice, \"KNOWS\", bob)\n",
    "graph.create(alice_knows_bob)\n",
    "\n",
    "alice.properties[\"age\"] = 33\n",
    "bob.properties[\"age\"] = 44\n",
    "alice.push()\n",
    "bob.push()"
   ]
  },
  {
   "cell_type": "code",
   "execution_count": 6,
   "metadata": {
    "collapsed": false
   },
   "outputs": [],
   "source": [
    "## Class\n",
    "\n",
    "class MyClass:\n",
    "    variable = \"first variable\"\n",
    "    \n",
    "    def function(self):\n",
    "        print \"Message with a function\"\n",
    "        \n",
    "MyObjectX = MyClass()\n",
    "\n",
    "# print MyObjectX.variable\n",
    "# print MyObjectX.function()\n",
    "\n",
    "MyObjectY = MyClass()\n",
    "MyObjectY.variable = \"second variable\"\n",
    "\n",
    "# print MyObjectY.variable"
   ]
  },
  {
   "cell_type": "code",
   "execution_count": 37,
   "metadata": {
    "collapsed": false
   },
   "outputs": [],
   "source": [
    "class Customer(object):\n",
    "    \n",
    "    def __init__(self, name, balance=0.0):\n",
    "        self.name = name\n",
    "        self.balance = balance\n",
    "        \n",
    "    def deposit(self, amount):\n",
    "        self.balance += amount\n",
    "        return self.balance\n",
    "    \n",
    "dom = Customer('Dom', 100.0)\n",
    "\n",
    "# print dom.name\n",
    "# print dom.balance\n",
    "# print dom.deposit(50.0)"
   ]
  }
 ],
 "metadata": {
  "kernelspec": {
   "display_name": "Python 2",
   "language": "python",
   "name": "python2"
  },
  "language_info": {
   "codemirror_mode": {
    "name": "ipython",
    "version": 2
   },
   "file_extension": ".py",
   "mimetype": "text/x-python",
   "name": "python",
   "nbconvert_exporter": "python",
   "pygments_lexer": "ipython2",
   "version": "2.7.11"
  }
 },
 "nbformat": 4,
 "nbformat_minor": 0
}
